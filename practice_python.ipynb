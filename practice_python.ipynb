{
 "cells": [
  {
   "cell_type": "code",
   "execution_count": 1,
   "metadata": {},
   "outputs": [
    {
     "name": "stdout",
     "output_type": "stream",
     "text": [
      "1\n",
      "1\n",
      "2\n",
      "3\n"
     ]
    }
   ],
   "source": [
    "#   a = [1, 1, 2, 3, 5, 8, 13, 21, 34, 55, 89]\n",
    "# and write a program that prints out all the elements of the list that are less than 5.\n",
    "\n",
    "a = [1, 1, 2, 3, 5, 8, 13, 21, 34, 55, 89]\n",
    "for i in a:\n",
    "    if i < 5:\n",
    "        print(i)\n"
   ]
  },
  {
   "cell_type": "code",
   "execution_count": 4,
   "metadata": {},
   "outputs": [
    {
     "name": "stdout",
     "output_type": "stream",
     "text": [
      "give a number45\n",
      "1\n",
      "3\n",
      "5\n",
      "9\n"
     ]
    }
   ],
   "source": [
    "#Create a program that asks the user for a number and then prints out a list of all the divisors of that number. \n",
    "#(If you don’t know what a divisor is, it is a number that divides evenly into another number. \n",
    "#For example, 13 is a divisor of 26 because 26 / 13 has no remainder.)\n",
    "num = int(input('give a number'))\n",
    "for i in range(1,11):\n",
    "    if num%i == 0:\n",
    "        print(i)"
   ]
  },
  {
   "cell_type": "code",
   "execution_count": 6,
   "metadata": {},
   "outputs": [
    {
     "name": "stdout",
     "output_type": "stream",
     "text": [
      "give size of list 15\n",
      "give size of list 27\n",
      "give array for list 1/n6\n",
      "give array for list 1/n5\n",
      "give array for list 1/n6\n",
      "give array for list 1/n4\n",
      "give array for list 1/n3\n",
      "give array for list 22\n",
      "give array for list 24\n",
      "give array for list 25\n",
      "give array for list 26\n",
      "give array for list 27\n",
      "give array for list 28\n",
      "give array for list 29\n",
      "[6, 5, 6, 4, 3]\n",
      "[2, 4, 5, 6, 7, 8, 9]\n",
      "[6, 5, 6, 4]\n"
     ]
    }
   ],
   "source": [
    "#ake two lists, say for example these two:\n",
    "#a = [1, 1, 2, 3, 5, 8, 13, 21, 34, 55, 89]\n",
    "#b = [1, 2, 3, 4, 5, 6, 7, 8, 9, 10, 11, 12, 13]\n",
    "#and write a program that returns a list that contains only the elements that are common between the lists \n",
    "#(without duplicates). Make sure your program works on two lists of different sizes.\n",
    "m = int(input('give size of list 1'))\n",
    "n = int(input('give size of list 2'))\n",
    "l1 = []\n",
    "l2 = []\n",
    "l3 = []\n",
    "for i in range(m):\n",
    "    a = int(input('give array for list 1/n6,'))\n",
    "    l1.append(a)\n",
    "for k in range(n):\n",
    "    b = int(input('give array for list 2'))\n",
    "    l2.append(b)\n",
    "for j in range(m):\n",
    "    for p in range(n):\n",
    "        if l1[j] == l2[p]:\n",
    "            l3.append(l1[j])\n",
    "print(l1)\n",
    "print(l2)\n",
    "print(l3)\n",
    "            \n",
    "    "
   ]
  },
  {
   "cell_type": "code",
   "execution_count": 14,
   "metadata": {},
   "outputs": [
    {
     "name": "stdout",
     "output_type": "stream",
     "text": [
      "give a suitable stringlok\n",
      "it is not palindrome\n"
     ]
    }
   ],
   "source": [
    "#Ask the user for a string and print out whether this string is a palindrome or not. \n",
    "#(A palindrome is a string that reads the same forwards and backwards.)\n",
    "string = str(input('give a suitable string'))\n",
    "if string == string[::-1]:\n",
    "    print('yes it is palindrome')\n",
    "else:\n",
    "    print('it is not palindrome')\n"
   ]
  },
  {
   "cell_type": "code",
   "execution_count": 16,
   "metadata": {},
   "outputs": [
    {
     "name": "stdout",
     "output_type": "stream",
     "text": [
      "give a suitable stringjoklp\n",
      "plkoj\n",
      "jokl\n"
     ]
    }
   ],
   "source": [
    "#reversing the string\n",
    "string = str(input('give a suitable string'))\n",
    "string2 = string[::-1]\n",
    "print(string2)\n",
    "print(string[:-1]) #it skip the last char"
   ]
  },
  {
   "cell_type": "code",
   "execution_count": 18,
   "metadata": {},
   "outputs": [
    {
     "name": "stdout",
     "output_type": "stream",
     "text": [
      "[4, 16, 36, 64, 100]\n"
     ]
    }
   ],
   "source": [
    "# Let’s say I give you a list saved in a variable: a = [1, 4, 9, 16, 25, 36, 49, 64, 81, 100]. \n",
    "# Write one line of Python that takes this list a and makes a new list that has only the even elements of this list in it.\n",
    "a = [1, 4, 9, 16, 25, 36, 49, 64, 81, 100]\n",
    "k = [i for i in a if i%2 == 0]\n",
    "print(k)"
   ]
  },
  {
   "cell_type": "code",
   "execution_count": 26,
   "metadata": {},
   "outputs": [
    {
     "name": "stdout",
     "output_type": "stream",
     "text": [
      "guess the number4\n",
      "try again the number is : [5]\n"
     ]
    }
   ],
   "source": [
    "#Generate a random number between 1 and 9 (including 1 and 9). Ask the user to guess the number, \n",
    "#then tell them whether they guessed too low, too high, or exactly right.\n",
    "#(Hint: remember to use the user input lessons from the very first exercise)\n",
    "from random import random\n",
    "import numpy\n",
    "x = numpy.random.randint(0,10,1)\n",
    "\n",
    "y = int(input('guess the number'))\n",
    "if x == y:\n",
    "    print('Congradulations you have guess correct numbr')\n",
    "else:\n",
    "    print('try again the number is :',x)\n"
   ]
  },
  {
   "cell_type": "code",
   "execution_count": 37,
   "metadata": {},
   "outputs": [
    {
     "name": "stdout",
     "output_type": "stream",
     "text": [
      "give size of list 13\n",
      "give size of list 24\n",
      "give array for list 1/n6,3\n",
      "give array for list 1/n6,4\n",
      "give array for list 1/n6,5\n",
      "give array for list 26\n",
      "give array for list 24\n",
      "give array for list 23\n",
      "give array for list 22\n",
      "[3, 4, 5]\n",
      "[6, 4, 3, 2]\n",
      "[3, 4]\n"
     ]
    }
   ],
   "source": [
    "#using list comprehension make list of common numbers\n",
    "m = int(input('give size of list 1'))\n",
    "n = int(input('give size of list 2'))\n",
    "l1 = []\n",
    "l2 = []\n",
    "l3 = []\n",
    "for i in range(m):\n",
    "    a = int(input('give array for list 1/n6,'))\n",
    "    l1.append(a)\n",
    "for k in range(n):\n",
    "    b = int(input('give array for list 2'))\n",
    "    l2.append(b)\n",
    "l3 = [i for i in l1 if i in l2]\n",
    "print(l1)\n",
    "print(l2)\n",
    "print(l3)"
   ]
  },
  {
   "cell_type": "code",
   "execution_count": 30,
   "metadata": {},
   "outputs": [
    {
     "name": "stdout",
     "output_type": "stream",
     "text": [
      "[2, 3, 5, 7, 11, 13, 17, 19, 23, 29, 31, 37, 41, 43, 47]\n",
      "[4, 6, 8, 10, 12, 14, 16, 18, 20, 22, 24, 26, 28, 30, 32, 34, 36, 38, 40, 42, 44, 46, 48, 6, 9, 12, 15, 18, 21, 24, 27, 30, 33, 36, 39, 42, 45, 48, 8, 12, 16, 20, 24, 28, 32, 36, 40, 44, 48, 10, 15, 20, 25, 30, 35, 40, 45, 12, 18, 24, 30, 36, 42, 48, 14, 21, 28, 35, 42, 49]\n"
     ]
    }
   ],
   "source": [
    "#prime numbers from 1 to 50\n",
    "noprimes = [j for i in range(2, 8) for j in range(i*2, 50, i)] \n",
    "\n",
    "primes = [x for x in range(2, 50) if x not in noprimes]  \n",
    "print (primes)\n",
    "print(noprimes)"
   ]
  },
  {
   "cell_type": "code",
   "execution_count": 32,
   "metadata": {},
   "outputs": [
    {
     "name": "stdout",
     "output_type": "stream",
     "text": [
      "[[5, 1, 5], [5, 2, 10], [5, 3, 15], [5, 4, 20], [5, 5, 25], [5, 6, 30], [5, 7, 35], [5, 8, 40], [5, 9, 45], [5, 10, 50]]\n"
     ]
    }
   ],
   "source": [
    "#tble of 5\n",
    "a = 5\n",
    "table = [[a, b, a * b] for b in range(1, 11)]  \n",
    "print(table)"
   ]
  },
  {
   "cell_type": "code",
   "execution_count": 48,
   "metadata": {},
   "outputs": [
    {
     "name": "stdout",
     "output_type": "stream",
     "text": [
      "take any number as input6\n"
     ]
    },
    {
     "ename": "TypeError",
     "evalue": "'float' object cannot be interpreted as an integer",
     "output_type": "error",
     "traceback": [
      "\u001b[1;31m---------------------------------------------------------------------------\u001b[0m",
      "\u001b[1;31mTypeError\u001b[0m                                 Traceback (most recent call last)",
      "\u001b[1;32m<ipython-input-48-fb9e6a2d3297>\u001b[0m in \u001b[0;36m<module>\u001b[1;34m\u001b[0m\n\u001b[0;32m      8\u001b[0m         \u001b[1;32mif\u001b[0m \u001b[0mnum\u001b[0m\u001b[1;33m%\u001b[0m\u001b[0mi\u001b[0m \u001b[1;33m==\u001b[0m \u001b[1;36m0.0\u001b[0m\u001b[1;33m:\u001b[0m\u001b[1;33m\u001b[0m\u001b[1;33m\u001b[0m\u001b[0m\n\u001b[0;32m      9\u001b[0m             \u001b[0mprint\u001b[0m\u001b[1;33m(\u001b[0m\u001b[0mnum\u001b[0m\u001b[1;33m,\u001b[0m\u001b[1;34m\"is prime not\"\u001b[0m\u001b[1;33m)\u001b[0m\u001b[1;33m\u001b[0m\u001b[1;33m\u001b[0m\u001b[0m\n\u001b[1;32m---> 10\u001b[1;33m \u001b[0mprime\u001b[0m\u001b[1;33m(\u001b[0m\u001b[0mnum\u001b[0m\u001b[1;33m)\u001b[0m\u001b[1;33m\u001b[0m\u001b[1;33m\u001b[0m\u001b[0m\n\u001b[0m",
      "\u001b[1;32m<ipython-input-48-fb9e6a2d3297>\u001b[0m in \u001b[0;36mprime\u001b[1;34m(num)\u001b[0m\n\u001b[0;32m      5\u001b[0m \u001b[0mnum\u001b[0m \u001b[1;33m=\u001b[0m \u001b[0mfloat\u001b[0m\u001b[1;33m(\u001b[0m\u001b[0minput\u001b[0m\u001b[1;33m(\u001b[0m\u001b[1;34m'take any number as input'\u001b[0m\u001b[1;33m)\u001b[0m\u001b[1;33m)\u001b[0m\u001b[1;33m\u001b[0m\u001b[1;33m\u001b[0m\u001b[0m\n\u001b[0;32m      6\u001b[0m \u001b[1;32mdef\u001b[0m \u001b[0mprime\u001b[0m\u001b[1;33m(\u001b[0m\u001b[0mnum\u001b[0m\u001b[1;33m)\u001b[0m\u001b[1;33m:\u001b[0m\u001b[1;33m\u001b[0m\u001b[1;33m\u001b[0m\u001b[0m\n\u001b[1;32m----> 7\u001b[1;33m     \u001b[1;32mfor\u001b[0m \u001b[0mi\u001b[0m \u001b[1;32min\u001b[0m \u001b[0mrange\u001b[0m\u001b[1;33m(\u001b[0m\u001b[1;36m2\u001b[0m\u001b[1;33m,\u001b[0m\u001b[1;33m(\u001b[0m\u001b[0mnum\u001b[0m\u001b[1;33m/\u001b[0m\u001b[1;36m2\u001b[0m\u001b[1;33m)\u001b[0m\u001b[1;33m+\u001b[0m\u001b[1;36m1\u001b[0m\u001b[1;33m)\u001b[0m\u001b[1;33m:\u001b[0m\u001b[1;33m\u001b[0m\u001b[1;33m\u001b[0m\u001b[0m\n\u001b[0m\u001b[0;32m      8\u001b[0m         \u001b[1;32mif\u001b[0m \u001b[0mnum\u001b[0m\u001b[1;33m%\u001b[0m\u001b[0mi\u001b[0m \u001b[1;33m==\u001b[0m \u001b[1;36m0.0\u001b[0m\u001b[1;33m:\u001b[0m\u001b[1;33m\u001b[0m\u001b[1;33m\u001b[0m\u001b[0m\n\u001b[0;32m      9\u001b[0m             \u001b[0mprint\u001b[0m\u001b[1;33m(\u001b[0m\u001b[0mnum\u001b[0m\u001b[1;33m,\u001b[0m\u001b[1;34m\"is prime not\"\u001b[0m\u001b[1;33m)\u001b[0m\u001b[1;33m\u001b[0m\u001b[1;33m\u001b[0m\u001b[0m\n",
      "\u001b[1;31mTypeError\u001b[0m: 'float' object cannot be interpreted as an integer"
     ]
    }
   ],
   "source": [
    "#Ask the user for a number and determine whether the number is prime or not. \n",
    "#(For those who have forgotten, a prime number is a number that has no divisors.). \n",
    "#You can (and should!) use your answer to Exercise 4 to help you. \n",
    "#Take this opportunity to practice using functions, described below.\n",
    "num = float(input('take any number as input'))\n",
    "def prime(num):\n",
    "    for i in range(2,(num/2)+1):\n",
    "        if num%i == 0.0:\n",
    "            print(num,\"is prime not\")\n",
    "prime(num)"
   ]
  },
  {
   "cell_type": "code",
   "execution_count": 2,
   "metadata": {},
   "outputs": [
    {
     "name": "stdout",
     "output_type": "stream",
     "text": [
      "take length of array5\n",
      "give numbers for array2\n",
      "give numbers for array3\n",
      "give numbers for array5\n",
      "give numbers for array7\n",
      "give numbers for array8\n",
      "first and last num 2 8\n"
     ]
    }
   ],
   "source": [
    "# Write a program that takes a list of numbers \n",
    "# (for example, a = [5, 10, 15, 20, 25]) and makes a new list of only the first and last elements of the given list.\n",
    "# For practice, write this code inside a function.\n",
    "length = int(input('take length of array'))\n",
    "#array = []\n",
    "def last_one(length):\n",
    "    array = []\n",
    "    for i in range(length):\n",
    "        num = int(input('give numbers for array'))\n",
    "        array.append(num)\n",
    "    return(print('first and last num',array[0],array[length-1]))\n",
    "last_one(length)   "
   ]
  },
  {
   "cell_type": "code",
   "execution_count": 22,
   "metadata": {},
   "outputs": [
    {
     "name": "stdout",
     "output_type": "stream",
     "text": [
      "give length of fibonacci series5\n"
     ]
    },
    {
     "data": {
      "text/plain": [
       "[0, 1, 1, 2, 3]"
      ]
     },
     "execution_count": 22,
     "metadata": {},
     "output_type": "execute_result"
    }
   ],
   "source": [
    "# Write a program that asks the user how many Fibonnaci numbers to generate and then generates them. \n",
    "# Take this opportunity to think about how you can use functions. \n",
    "# Make sure to ask the user to enter the number of numbers in the sequence to generate.\n",
    "# (Hint: The Fibonnaci seqence is a sequence of numbers where the next number in the sequence is the sum of the previous two numbers in the sequence. \n",
    "# The sequence looks like this: 1, 1, 2, 3, 5, 8, 13, …)\n",
    "le = int(input('give length of fibonacci series'))\n",
    "def fabo(le):\n",
    "    array = []\n",
    "    for i in range(le):\n",
    "        #print(i)\n",
    "        if i >=2:\n",
    "            #print(i)\n",
    "            s = array[i-2]+array[i-1]\n",
    "            array.append(s)\n",
    "        else:\n",
    "            #print(i)\n",
    "            array.append(i)\n",
    "    return(array)\n",
    "fabo(le)\n",
    "            \n"
   ]
  },
  {
   "cell_type": "code",
   "execution_count": 8,
   "metadata": {},
   "outputs": [
    {
     "name": "stdout",
     "output_type": "stream",
     "text": [
      "take a length of list5\n",
      "give numbers for array5\n",
      "give numbers for array6\n",
      "give numbers for array5\n",
      "give numbers for array7\n",
      "give numbers for array8\n"
     ]
    },
    {
     "data": {
      "text/plain": [
       "[5, 6, 7, 8]"
      ]
     },
     "execution_count": 8,
     "metadata": {},
     "output_type": "execute_result"
    }
   ],
   "source": [
    "# Write a program (function!) that takes a list and returns a new list that contains all the elements of the first list minus\n",
    "# all the duplicates.\n",
    "l = int(input('take a length of list'))\n",
    "def duplicate_removal(l):\n",
    "    k = []\n",
    "    l3 = []\n",
    "    for i in range(l):\n",
    "        num = int(input('give numbers for array'))\n",
    "        k.append(num)\n",
    "        #print('list of array',k)\n",
    "    for p in k:\n",
    "        if p not in l3:\n",
    "            l3.append(p)\n",
    "    #l3 = [p for p in k if p not in l3]\n",
    "    return(l3)\n",
    "duplicate_removal(l)      \n",
    "    "
   ]
  },
  {
   "cell_type": "code",
   "execution_count": 12,
   "metadata": {},
   "outputs": [
    {
     "data": {
      "text/plain": [
       "[1, 1, 2, 3]"
      ]
     },
     "execution_count": 12,
     "metadata": {},
     "output_type": "execute_result"
    }
   ],
   "source": [
    "# Take a list, say for example this one:\n",
    "\n",
    "#   a = [1, 1, 2, 3, 5, 8, 13, 21, 34, 55, 89]\n",
    "# and write a program that prints out all the elements of the list that are less than 5.\n",
    "\n",
    "# Extras:\n",
    "\n",
    "# Instead of printing the elements one by one, make a new list that has all the elements less than 5 from this list in it and print out this new list.\n",
    "# Write this in one line of Python.\n",
    "# Ask the user for a number and return a list that contains only elements from the original list a that are smaller than that number given by the user.\n",
    "def smaller_than_5():\n",
    "    a = [1, 1, 2, 3, 5, 8, 13, 21, 34, 55, 89]\n",
    "    l = []\n",
    "    l =  [i for i in a if i<5 ]\n",
    "    return(l)\n",
    "smaller_than_5()      \n",
    "    "
   ]
  },
  {
   "cell_type": "code",
   "execution_count": 16,
   "metadata": {},
   "outputs": [
    {
     "name": "stdout",
     "output_type": "stream",
     "text": [
      "give long string as inputi am jayshree rathod\n"
     ]
    },
    {
     "data": {
      "text/plain": [
       "'rathod jayshree am i'"
      ]
     },
     "execution_count": 16,
     "metadata": {},
     "output_type": "execute_result"
    }
   ],
   "source": [
    "# Write a program (using functions!) that asks the user for a long string containing multiple words.\n",
    "# Print back to the user the same string, except with the words in backwards order. \n",
    "def reverse_word():\n",
    "    string = str(input('give long string as input'))\n",
    "    return(' '.join(string.split()[::-1]))\n",
    "reverse_word()"
   ]
  },
  {
   "cell_type": "code",
   "execution_count": 19,
   "metadata": {},
   "outputs": [
    {
     "ename": "ModuleNotFoundError",
     "evalue": "No module named 'random.choice'; 'random' is not a package",
     "output_type": "error",
     "traceback": [
      "\u001b[1;31m---------------------------------------------------------------------------\u001b[0m",
      "\u001b[1;31mModuleNotFoundError\u001b[0m                       Traceback (most recent call last)",
      "\u001b[1;32m<ipython-input-19-437df6395799>\u001b[0m in \u001b[0;36m<module>\u001b[1;34m\u001b[0m\n\u001b[1;32m----> 1\u001b[1;33m \u001b[1;32mimport\u001b[0m \u001b[0mrandom\u001b[0m\u001b[1;33m.\u001b[0m\u001b[0mchoice\u001b[0m\u001b[1;33m\u001b[0m\u001b[1;33m\u001b[0m\u001b[0m\n\u001b[0m\u001b[0;32m      2\u001b[0m \u001b[0mlower_upper_alphabet\u001b[0m \u001b[1;33m=\u001b[0m \u001b[0mstring\u001b[0m\u001b[1;33m.\u001b[0m\u001b[0mascii_letters\u001b[0m\u001b[1;33m\u001b[0m\u001b[1;33m\u001b[0m\u001b[0m\n\u001b[0;32m      3\u001b[0m \u001b[1;33m\u001b[0m\u001b[0m\n\u001b[0;32m      4\u001b[0m \u001b[0mrandom_letter\u001b[0m \u001b[1;33m=\u001b[0m \u001b[0mrandom\u001b[0m\u001b[1;33m.\u001b[0m\u001b[0mchoice\u001b[0m\u001b[1;33m(\u001b[0m\u001b[0mlower_upper_alphabet\u001b[0m\u001b[1;33m)\u001b[0m\u001b[1;33m\u001b[0m\u001b[1;33m\u001b[0m\u001b[0m\n\u001b[0;32m      5\u001b[0m \u001b[1;33m\u001b[0m\u001b[0m\n",
      "\u001b[1;31mModuleNotFoundError\u001b[0m: No module named 'random.choice'; 'random' is not a package"
     ]
    }
   ],
   "source": [
    "import random.choice\n",
    "lower_upper_alphabet = string.ascii_letters\n",
    "\n",
    "random_letter = random.choice(lower_upper_alphabet)\n",
    "\n",
    "\n",
    "\n",
    "print(random_letter)\n"
   ]
  },
  {
   "cell_type": "code",
   "execution_count": 3,
   "metadata": {},
   "outputs": [
    {
     "name": "stdout",
     "output_type": "stream",
     "text": [
      "h 1 7 % s r r h\n"
     ]
    }
   ],
   "source": [
    "# Write a password generator in Python. Be creative with how you generate passwords - \n",
    "# strong passwords have a mix of lowercase letters, uppercase letters, numbers, and symbols. \n",
    "# The passwords should be random, generating a new password every time the user asks for a new password. \n",
    "# Include your run-time code in a main method.\n",
    "s = 'DFGTdsgyiuhrtihgksdfjhopyukytpkjDhfiFTjdshf#$%@!&12djgh3ry4reyrt5rut6ur7tu8tr9rtu0'\n",
    "import random\n",
    "passs = 8\n",
    "p = ' '.join(random.sample(s,passs))\n",
    "print(p)\n",
    "        \n",
    "    "
   ]
  },
  {
   "cell_type": "code",
   "execution_count": 6,
   "metadata": {},
   "outputs": [
    {
     "name": "stdout",
     "output_type": "stream",
     "text": [
      "g i % s 8 2 i s 5 !\n"
     ]
    }
   ],
   "source": [
    "s = 'hdisdughDFGTkjtiodtj$%&dfhs*!dfh@Vb0123456789'\n",
    "import random\n",
    "p = ' '.join(random.sample(s,10))\n",
    "print(p)"
   ]
  },
  {
   "cell_type": "code",
   "execution_count": 8,
   "metadata": {},
   "outputs": [
    {
     "name": "stdout",
     "output_type": "stream",
     "text": [
      "How many characters in your password?10\n",
      "SvN:o)@3GQ\n"
     ]
    }
   ],
   "source": [
    "import string\n",
    "import random\n",
    "\n",
    "def pw_gen(size = 8, chars=string.ascii_letters + string.digits + string.punctuation):\n",
    "\treturn ''.join(random.choice(chars) for _ in range(size))\n",
    "\n",
    "print(pw_gen(int(input('How many characters in your password?'))))\n"
   ]
  },
  {
   "cell_type": "code",
   "execution_count": 20,
   "metadata": {},
   "outputs": [
    {
     "data": {
      "text/plain": [
       "'e G T M L 4 1 C Q I'"
      ]
     },
     "execution_count": 20,
     "metadata": {},
     "output_type": "execute_result"
    }
   ],
   "source": [
    "st = string.ascii_letters + string.digits + string.punctuation #another way to generate a new password\n",
    "p = \" \".join(random.choices(st,k=10))\n",
    "p"
   ]
  },
  {
   "cell_type": "code",
   "execution_count": 21,
   "metadata": {},
   "outputs": [],
   "source": [
    "#Decode A Web Page.\n",
    "import urllib.request\n",
    "from bs4 import BeautifulSoup\n",
    "from urllib.request import Request, urlopen\n",
    "\n",
    "req = Request('https://www.nytimes.com/', headers={'User-Agent': 'Mozilla/5.0'})\n",
    "webpage = urlopen(req).read()\n",
    "\n",
    "soup = BeautifulSoup(webpage,\"lxml\")\n",
    "text = soup.find('article')"
   ]
  },
  {
   "cell_type": "code",
   "execution_count": 22,
   "metadata": {},
   "outputs": [
    {
     "data": {
      "text/plain": [
       "<article class=\"css-8atqhb\"><div class=\"css-1ee8y2t assetWrapper\"><div class=\"css-geek62\"><div class=\"css-1q55ywe e18972d70\" media=\"[object Object]\"><a href=\"/2021/02/18/podcasts/coronavirus-pandemic-the-daily.html\"><div class=\"css-1g8bx4t\"><figure class=\"css-mky99g\"><img alt=\"\" decoding=\"async\" src=\"https://static01.nyt.com/images/2018/12/03/podcasts/thedaily-promo-logo/thedaily-promo-logo-square640.png?quality=75&amp;auto=webp&amp;disable=upscale&amp;width=350\"/></figure></div></a></div><a href=\"/2021/02/18/podcasts/coronavirus-pandemic-the-daily.html\"><div class=\"css-8oysku e18972d71\" type=\"1\"><div class=\"css-1j568ae e1voiwgp1\"><h2 class=\"css-1jqkykx e1voiwgp0\">Listen to ‘The Daily’</h2></div></div><div class=\"css-8oysku e18972d71\"><p class=\"css-k27tje e1lfvv700\">Personal stories from the pandemic — the losses, small comforts and sacrifices.</p></div></a></div></div></article>"
      ]
     },
     "execution_count": 22,
     "metadata": {},
     "output_type": "execute_result"
    }
   ],
   "source": [
    "text"
   ]
  },
  {
   "cell_type": "code",
   "execution_count": 28,
   "metadata": {},
   "outputs": [],
   "source": [
    "import requests\n",
    "from bs4 import BeautifulSoup\n",
    " \n",
    "base_url = 'http://www.nytimes.com'\n",
    "r = requests.get(base_url)\n",
    "soup = BeautifulSoup(r.text)\n",
    "\n",
    " \n",
    "for story_heading in soup.find_all(class_=\"article\"): \n",
    "    if story_heading.a: \n",
    "        print(article.a.text.replace(\"\\n\", \" \").strip())\n",
    "    else: \n",
    "        print(article.contents[0].strip())"
   ]
  },
  {
   "cell_type": "code",
   "execution_count": 51,
   "metadata": {},
   "outputs": [
    {
     "name": "stdout",
     "output_type": "stream",
     "text": [
      "give number1\n",
      "bull\n",
      "give number0\n",
      "bull\n",
      "give number2\n",
      "bull\n",
      "give number3\n",
      "bull\n",
      "randomly generated number ['2', '8', '7', '6']\n"
     ]
    }
   ],
   "source": [
    "#make cow and bull game\n",
    "num = string.digits\n",
    "num_g = random.choices(num,k=4)\n",
    "num_g\n",
    "n = 4\n",
    "# l = []\n",
    "for i in range(n):\n",
    "    a = int(input('give number'))\n",
    "    if num_g[i]==a:\n",
    "        print('cow')\n",
    "    else:\n",
    "        print('bull')\n",
    "print('randomly generated number',num_g)\n",
    "    \n",
    "#     l.append(a)\n",
    "# for j in num_g:\n",
    "#     print(j)\n",
    "# #     for k in range(l):\n",
    "# #         if num_g[i] == l[k]:\n",
    "# #             print('cow')\n",
    "# #         else:\n",
    "# #             print('bull')\n",
    "        \n",
    "    "
   ]
  },
  {
   "cell_type": "code",
   "execution_count": null,
   "metadata": {},
   "outputs": [],
   "source": []
  }
 ],
 "metadata": {
  "kernelspec": {
   "display_name": "Python 3",
   "language": "python",
   "name": "python3"
  },
  "language_info": {
   "codemirror_mode": {
    "name": "ipython",
    "version": 3
   },
   "file_extension": ".py",
   "mimetype": "text/x-python",
   "name": "python",
   "nbconvert_exporter": "python",
   "pygments_lexer": "ipython3",
   "version": "3.8.3"
  }
 },
 "nbformat": 4,
 "nbformat_minor": 4
}
